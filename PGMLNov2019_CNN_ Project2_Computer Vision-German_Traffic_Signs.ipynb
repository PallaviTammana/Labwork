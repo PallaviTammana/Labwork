{
 "cells": [
  {
   "cell_type": "markdown",
   "metadata": {
    "colab_type": "text",
    "id": "O9jAqShELHZI"
   },
   "source": [
    "![alt text](https://drive.google.com/uc?export=view&id=1UXScsVx_Wni_JuDdB8LeTnM6jsPfIwkW)\n",
    "\n",
    "Proprietary content. © Great Learning. All Rights Reserved. Unauthorized use or distribution prohibited."
   ]
  },
  {
   "cell_type": "markdown",
   "metadata": {
    "colab_type": "text",
    "id": "SRkFT8HtCZHS"
   },
   "source": [
    "# German Traffic Sign Recognition\n",
    "Multi-class, single-image classification"
   ]
  },
  {
   "cell_type": "markdown",
   "metadata": {
    "colab_type": "text",
    "id": "SJWdbMALTcGJ"
   },
   "source": [
    "### Dataset\n",
    "The German Traffic Sign Benchmark is a multi-class, single-image classification challenge held at the International Joint Conference on Neural Networks (IJCNN) 2011. They cordially invite researchers from relevant fields to participate: The competition is designed to allow for participation without special domain knowledge. Their benchmark has the following properties:\n",
    "\n",
    "- Single-image, multi-class classification problem\n",
    "- More than 40 classes\n",
    "- More than 50,000 images in total\n",
    "- Large, lifelike database"
   ]
  },
  {
   "cell_type": "markdown",
   "metadata": {
    "colab_type": "text",
    "id": "hRhJulWyIGMN"
   },
   "source": [
    "#### Notes\n",
    "- You can check “Meta” folder for getting information about the classes.\n",
    "- If the model is taking too much time to get trained then you can reduce the number of classes. There are around 43 classes in the dataset, model should be trained on a minimum of 15 classes."
   ]
  },
  {
   "cell_type": "markdown",
   "metadata": {
    "colab_type": "text",
    "id": "qC37j3FUDVYd"
   },
   "source": [
    "### Initialize ImageDataGenerator (5 Marks)\n",
    "- Rescale the images\n",
    "- Specify value for validation_split & get 75% data in training and 25% data in validation"
   ]
  },
  {
   "cell_type": "code",
   "execution_count": 15,
   "metadata": {
    "colab": {},
    "colab_type": "code",
    "id": "OakETLlCBwy1"
   },
   "outputs": [],
   "source": [
    "import tensorflow as tf\n",
    "train_dir_path = '/Users/suyash/Downloads/Data - German Traffic Sign Recognition/Data - German Traffic Sign Recognition/Train'\n",
    "train_datagen = tf.keras.preprocessing.image.ImageDataGenerator(\n",
    "    rescale=1./255,\n",
    "    rotation_range=45,\n",
    "    width_shift_range=0.2,\n",
    "    height_shift_range=0.2,\n",
    "    horizontal_flip=True,\n",
    "    vertical_flip=True,\n",
    "    validation_split=0.25)"
   ]
  },
  {
   "cell_type": "markdown",
   "metadata": {
    "colab_type": "text",
    "id": "58e4ODapEVdx"
   },
   "source": [
    "### Get training data from ImageDataGenerator (5 Marks)\n",
    "- Give directory path\n",
    "- Give target size\n",
    "- Give batch_size\n",
    "- Specify classes, if you wish to use less number of classes you need to give class names in a list (Atleast 15 classes should be there)\n",
    "- Specify class_mode\n",
    "- Specify color_mode\n",
    "- Specify subset\n",
    "\n",
    "You can get details here\n",
    "https://www.tensorflow.org/api_docs/python/tf/keras/preprocessing/image/ImageDataGenerator"
   ]
  },
  {
   "cell_type": "code",
   "execution_count": 16,
   "metadata": {
    "colab": {},
    "colab_type": "code",
    "id": "GSfT2cB4COgC"
   },
   "outputs": [
    {
     "name": "stdout",
     "output_type": "stream",
     "text": [
      "Found 22124 images belonging to 33 classes.\n"
     ]
    }
   ],
   "source": [
    "train_data_generator = train_datagen.flow_from_directory(\n",
    "    train_dir_path,\n",
    "    target_size=(32,32),\n",
    "    batch_size=32,\n",
    "    class_mode='categorical',\n",
    "    color_mode='rgb',\n",
    "    subset='training'\n",
    "  )\n"
   ]
  },
  {
   "cell_type": "markdown",
   "metadata": {
    "colab_type": "text",
    "id": "GzYNcoV9Gawj"
   },
   "source": [
    "### Get validation data from ImageDataGenerator (5 Marks)\n",
    "- Give directory path\n",
    "- Give target size\n",
    "- Give batch_size\n",
    "- Specify classes, if you wish to use less number of classes you need to give class names in a list (Atleast 15 classes should be there)\n",
    "- Specify class_mode\n",
    "- Specify color_mode\n",
    "- Specify subset\n",
    "\n",
    "You can get details here\n",
    "https://www.tensorflow.org/api_docs/python/tf/keras/preprocessing/image/ImageDataGenerator"
   ]
  },
  {
   "cell_type": "code",
   "execution_count": 17,
   "metadata": {
    "colab": {},
    "colab_type": "code",
    "id": "-m9zfw0AHIma"
   },
   "outputs": [
    {
     "name": "stdout",
     "output_type": "stream",
     "text": [
      "Found 7364 images belonging to 33 classes.\n"
     ]
    }
   ],
   "source": [
    "validation_generator = train_datagen.flow_from_directory(\n",
    "    train_dir_path, \n",
    "    target_size=(32,32),\n",
    "    batch_size=32,\n",
    "    class_mode='categorical',\n",
    "    color_mode='rgb',\n",
    "    subset='validation')\n",
    "\n"
   ]
  },
  {
   "cell_type": "markdown",
   "metadata": {
    "colab_type": "text",
    "id": "S2fXxJz1I_SV"
   },
   "source": [
    "### Define model (5 Marks)\n",
    "- Initialize a Sequential Model\n",
    "- Add Convolution, Maxpool, Dropout, Flatten & Dense layers according to your model architecture"
   ]
  },
  {
   "cell_type": "code",
   "execution_count": 18,
   "metadata": {
    "colab": {},
    "colab_type": "code",
    "id": "Fns3rEJ-DHQq"
   },
   "outputs": [],
   "source": [
    "tf.keras.backend.clear_session()\n",
    "model = tf.keras.models.Sequential()\n",
    "model.add(tf.keras.layers.BatchNormalization(input_shape=(32,32,3,)))\n",
    "\n",
    "model.add(tf.keras.layers.Conv2D(32,kernel_size=(3,3),activation=\"relu\"))\n",
    "model.add(tf.keras.layers.BatchNormalization(axis=1))\n",
    "model.add(tf.keras.layers.Conv2D(32,kernel_size=(3,3),activation=\"relu\"))\n",
    "model.add(tf.keras.layers.MaxPooling2D())\n",
    "model.add(tf.keras.layers.BatchNormalization(axis=1))\n",
    "model.add(tf.keras.layers.Conv2D(64,kernel_size=(3,3),activation=\"relu\"))\n",
    "model.add(tf.keras.layers.BatchNormalization(axis=1))\n",
    "model.add(tf.keras.layers.Conv2D(64,kernel_size=(3,3),activation=\"relu\"))\n",
    "model.add(tf.keras.layers.MaxPooling2D())\n",
    "model.add(tf.keras.layers.Conv2D(128,kernel_size=(3,3),activation=\"relu\"))\n",
    "model.add(tf.keras.layers.BatchNormalization(axis=1))\n",
    "model.add(tf.keras.layers.Conv2D(128,kernel_size=(3,3),activation=\"relu\"))\n",
    "model.add(tf.keras.layers.BatchNormalization(axis=1))\n",
    "\n",
    "model.add(tf.keras.layers.Flatten())\n",
    "model.add(tf.keras.layers.Dense(1024,activation=\"relu\"))\n",
    "model.add(tf.keras.layers.Dropout(0.25))\n",
    "model.add(tf.keras.layers.BatchNormalization(axis=1))\n",
    "model.add(tf.keras.layers.Dense(33,activation=\"softmax\"))"
   ]
  },
  {
   "cell_type": "markdown",
   "metadata": {
    "colab_type": "text",
    "id": "lRs36YJgJvI0"
   },
   "source": [
    "### Compile the model (2 Marks)\n",
    "- Specify optimizer, loss & metrics"
   ]
  },
  {
   "cell_type": "code",
   "execution_count": 19,
   "metadata": {
    "colab": {},
    "colab_type": "code",
    "id": "jvgO3JPvDQpL"
   },
   "outputs": [],
   "source": [
    "import tensorflow.keras.losses as losses\n",
    "model.compile(optimizer='adam',loss=losses.categorical_crossentropy,metrics=['accuracy'])"
   ]
  },
  {
   "cell_type": "markdown",
   "metadata": {
    "colab_type": "text",
    "id": "U_Q6ihfUJ6Hm"
   },
   "source": [
    "### Get model summary (2 Marks)"
   ]
  },
  {
   "cell_type": "code",
   "execution_count": 20,
   "metadata": {
    "colab": {},
    "colab_type": "code",
    "id": "b3Sxnbo-lhfV"
   },
   "outputs": [
    {
     "name": "stdout",
     "output_type": "stream",
     "text": [
      "Model: \"sequential\"\n",
      "_________________________________________________________________\n",
      "Layer (type)                 Output Shape              Param #   \n",
      "=================================================================\n",
      "batch_normalization (BatchNo (None, 32, 32, 3)         12        \n",
      "_________________________________________________________________\n",
      "conv2d (Conv2D)              (None, 30, 30, 32)        896       \n",
      "_________________________________________________________________\n",
      "batch_normalization_1 (Batch (None, 30, 30, 32)        120       \n",
      "_________________________________________________________________\n",
      "conv2d_1 (Conv2D)            (None, 28, 28, 32)        9248      \n",
      "_________________________________________________________________\n",
      "max_pooling2d (MaxPooling2D) (None, 14, 14, 32)        0         \n",
      "_________________________________________________________________\n",
      "batch_normalization_2 (Batch (None, 14, 14, 32)        56        \n",
      "_________________________________________________________________\n",
      "conv2d_2 (Conv2D)            (None, 12, 12, 64)        18496     \n",
      "_________________________________________________________________\n",
      "batch_normalization_3 (Batch (None, 12, 12, 64)        48        \n",
      "_________________________________________________________________\n",
      "conv2d_3 (Conv2D)            (None, 10, 10, 64)        36928     \n",
      "_________________________________________________________________\n",
      "max_pooling2d_1 (MaxPooling2 (None, 5, 5, 64)          0         \n",
      "_________________________________________________________________\n",
      "conv2d_4 (Conv2D)            (None, 3, 3, 128)         73856     \n",
      "_________________________________________________________________\n",
      "batch_normalization_4 (Batch (None, 3, 3, 128)         12        \n",
      "_________________________________________________________________\n",
      "conv2d_5 (Conv2D)            (None, 1, 1, 128)         147584    \n",
      "_________________________________________________________________\n",
      "batch_normalization_5 (Batch (None, 1, 1, 128)         4         \n",
      "_________________________________________________________________\n",
      "flatten (Flatten)            (None, 128)               0         \n",
      "_________________________________________________________________\n",
      "dense (Dense)                (None, 1024)              132096    \n",
      "_________________________________________________________________\n",
      "dropout (Dropout)            (None, 1024)              0         \n",
      "_________________________________________________________________\n",
      "batch_normalization_6 (Batch (None, 1024)              4096      \n",
      "_________________________________________________________________\n",
      "dense_1 (Dense)              (None, 33)                33825     \n",
      "=================================================================\n",
      "Total params: 457,277\n",
      "Trainable params: 455,103\n",
      "Non-trainable params: 2,174\n",
      "_________________________________________________________________\n"
     ]
    }
   ],
   "source": [
    "model.summary()"
   ]
  },
  {
   "cell_type": "markdown",
   "metadata": {
    "colab_type": "text",
    "id": "4mK8GNxFJ9vB"
   },
   "source": [
    "### Fit the model (3 Marks)\n",
    "- Specify epochs\n",
    "- Specify batch_size\n",
    "- Give validation_data\n",
    "- Validation accuracy should be more than 90%"
   ]
  },
  {
   "cell_type": "code",
   "execution_count": 21,
   "metadata": {
    "colab": {},
    "colab_type": "code",
    "id": "9SLjprPDDYOs"
   },
   "outputs": [
    {
     "name": "stdout",
     "output_type": "stream",
     "text": [
      "Epoch 1/20\n",
      "691/691 [==============================] - 92s 133ms/step - loss: 2.4198 - accuracy: 0.2961 - val_loss: 2.2756 - val_accuracy: 0.3541\n",
      "Epoch 2/20\n",
      "691/691 [==============================] - 87s 126ms/step - loss: 1.2914 - accuracy: 0.5703 - val_loss: 1.5504 - val_accuracy: 0.5090\n",
      "Epoch 3/20\n",
      "691/691 [==============================] - 88s 127ms/step - loss: 0.8698 - accuracy: 0.7051 - val_loss: 1.2512 - val_accuracy: 0.5969\n",
      "Epoch 4/20\n",
      "691/691 [==============================] - 90s 131ms/step - loss: 0.6639 - accuracy: 0.7702 - val_loss: 0.9254 - val_accuracy: 0.7061\n",
      "Epoch 5/20\n",
      "691/691 [==============================] - 88s 128ms/step - loss: 0.5093 - accuracy: 0.8225 - val_loss: 0.8695 - val_accuracy: 0.7276\n",
      "Epoch 6/20\n",
      "691/691 [==============================] - 87s 125ms/step - loss: 0.4394 - accuracy: 0.8451 - val_loss: 0.8770 - val_accuracy: 0.7404\n",
      "Epoch 7/20\n",
      "691/691 [==============================] - 92s 133ms/step - loss: 0.3800 - accuracy: 0.8641 - val_loss: 0.7887 - val_accuracy: 0.7700\n",
      "Epoch 8/20\n",
      "691/691 [==============================] - 88s 127ms/step - loss: 0.3320 - accuracy: 0.8809 - val_loss: 0.7204 - val_accuracy: 0.7887\n",
      "Epoch 9/20\n",
      "691/691 [==============================] - 86s 125ms/step - loss: 0.3064 - accuracy: 0.8906 - val_loss: 0.6720 - val_accuracy: 0.7856\n",
      "Epoch 10/20\n",
      "691/691 [==============================] - 91s 132ms/step - loss: 0.2807 - accuracy: 0.8988 - val_loss: 0.6911 - val_accuracy: 0.7969\n",
      "Epoch 11/20\n",
      "691/691 [==============================] - 88s 127ms/step - loss: 0.2593 - accuracy: 0.9067 - val_loss: 0.5787 - val_accuracy: 0.8190\n",
      "Epoch 12/20\n",
      "691/691 [==============================] - 89s 129ms/step - loss: 0.2475 - accuracy: 0.9105 - val_loss: 0.5779 - val_accuracy: 0.8179\n",
      "Epoch 13/20\n",
      "691/691 [==============================] - 89s 129ms/step - loss: 0.2260 - accuracy: 0.9183 - val_loss: 0.5369 - val_accuracy: 0.8300\n",
      "Epoch 14/20\n",
      "691/691 [==============================] - 91s 132ms/step - loss: 0.2223 - accuracy: 0.9211 - val_loss: 0.6156 - val_accuracy: 0.8177\n",
      "Epoch 15/20\n",
      "691/691 [==============================] - 95s 137ms/step - loss: 0.2141 - accuracy: 0.9235 - val_loss: 0.5788 - val_accuracy: 0.8322\n",
      "Epoch 16/20\n",
      "691/691 [==============================] - 95s 138ms/step - loss: 0.2073 - accuracy: 0.9266 - val_loss: 0.5011 - val_accuracy: 0.8440\n",
      "Epoch 17/20\n",
      "691/691 [==============================] - 104s 151ms/step - loss: 0.1888 - accuracy: 0.9326 - val_loss: 0.5906 - val_accuracy: 0.8266\n",
      "Epoch 18/20\n",
      "691/691 [==============================] - 95s 137ms/step - loss: 0.1810 - accuracy: 0.9353 - val_loss: 0.6775 - val_accuracy: 0.8162\n",
      "Epoch 19/20\n",
      "691/691 [==============================] - 100s 144ms/step - loss: 0.1735 - accuracy: 0.9378 - val_loss: 0.6025 - val_accuracy: 0.8307\n",
      "Epoch 20/20\n",
      "691/691 [==============================] - 94s 136ms/step - loss: 0.1739 - accuracy: 0.9370 - val_loss: 0.5870 - val_accuracy: 0.8457\n"
     ]
    }
   ],
   "source": [
    "history = model.fit_generator(\n",
    "    train_data_generator,\n",
    "    steps_per_epoch = train_data_generator.n//32,\n",
    "    validation_data = validation_generator, \n",
    "    validation_steps = validation_generator.n//32,\n",
    "    epochs = 20)"
   ]
  },
  {
   "cell_type": "markdown",
   "metadata": {
    "colab_type": "text",
    "id": "diNbnH_dKO8J"
   },
   "source": [
    "### Draw plots (3 Marks)\n",
    "- Plot training accuracy and validation accuracy with respect to epochs\n",
    "- Plot training loss and validation loss with respect to epochs"
   ]
  },
  {
   "cell_type": "code",
   "execution_count": 23,
   "metadata": {
    "colab": {},
    "colab_type": "code",
    "id": "8uoIPTssDofN"
   },
   "outputs": [
    {
     "name": "stdout",
     "output_type": "stream",
     "text": [
      "dict_keys(['loss', 'accuracy', 'val_loss', 'val_accuracy'])\n"
     ]
    },
    {
     "data": {
      "image/png": "[encoded data removed]",
      "text/plain": [
       "<Figure size 432x288 with 1 Axes>"
      ]
     },
     "metadata": {
      "needs_background": "light"
     },
     "output_type": "display_data"
    },
    {
     "data": {
      "image/png": "[encoded data removed]",
      "text/plain": [
       "<Figure size 432x288 with 1 Axes>"
      ]
     },
     "metadata": {
      "needs_background": "light"
     },
     "output_type": "display_data"
    }
   ],
   "source": [
    "import matplotlib.pyplot as plt\n",
    "# list all data in history\n",
    "print(history.history.keys())\n",
    "# summarize history for accuracy\n",
    "plt.plot(history.history['accuracy'])\n",
    "plt.plot(history.history['val_accuracy'])\n",
    "plt.title('model accuracy')\n",
    "plt.ylabel('accuracy')\n",
    "plt.xlabel('epoch')\n",
    "plt.legend(['train', 'test'], loc='upper left')\n",
    "plt.show()\n",
    "# summarize history for loss\n",
    "plt.plot(history.history['loss'])\n",
    "plt.plot(history.history['val_loss'])\n",
    "plt.title('model loss')\n",
    "plt.ylabel('loss')\n",
    "plt.xlabel('epoch')\n",
    "plt.legend(['train', 'test'], loc='upper left')\n",
    "plt.show()"
   ]
  }
 ],
 "metadata": {
  "accelerator": "GPU",
  "colab": {
   "authorship_tag": "ABX9TyMGAB4OYXt2S86wW3ZWwSdM",
   "name": "Questions - Project 2 - Computer Vision - German Traffic Signs.ipynb",
   "provenance": []
  },
  "kernelspec": {
   "display_name": "Python 3",
   "language": "python",
   "name": "python3"
  }
 },
 "nbformat": 4,
 "nbformat_minor": 1
}
